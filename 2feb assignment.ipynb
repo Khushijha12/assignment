{
 "cells": [
  {
   "cell_type": "markdown",
   "id": "9c4d65e3-6d33-43bb-8c3d-3e3c3bbb2498",
   "metadata": {},
   "source": [
    "1. EXPLAIN WITH AN EXAMPLE EACH WHEN TO USE A FOR LOOP AND A WHILE LOOP."
   ]
  },
  {
   "cell_type": "code",
   "execution_count": 1,
   "id": "e8934401-4c38-4c7b-8da9-4cf1ba0a6949",
   "metadata": {},
   "outputs": [
    {
     "data": {
      "text/plain": [
       "\" ANS :-  FOR LOOP - FOR LOOP CAN BE USED -\\n        a. TO ITERATE OVER AN ARRAY\\n        b. WHEN WE KNOW THE LOOP SHOULD EXECUTE 'N' TIMES.\""
      ]
     },
     "execution_count": 1,
     "metadata": {},
     "output_type": "execute_result"
    }
   ],
   "source": [
    "''' ANS :-  FOR LOOP - FOR LOOP CAN BE USED -\n",
    "        a. TO ITERATE OVER AN ARRAY\n",
    "        b. WHEN WE KNOW THE LOOP SHOULD EXECUTE 'N' TIMES.'''     "
   ]
  },
  {
   "cell_type": "code",
   "execution_count": 2,
   "id": "9d71bd27-5aff-47e0-9d25-6e455f7d58d8",
   "metadata": {},
   "outputs": [],
   "source": [
    "## EXAMPLE OF FOR LOOP FOR ADDING 1 IN EVERY ELEMENT OF LIST"
   ]
  },
  {
   "cell_type": "code",
   "execution_count": 5,
   "id": "6bbbec6f-e260-4922-afe9-7668b7ebcf61",
   "metadata": {},
   "outputs": [],
   "source": [
    "l=[1,2,3,4,5]\n",
    "    "
   ]
  },
  {
   "cell_type": "code",
   "execution_count": 6,
   "id": "b807c985-3647-4354-8b76-0ebfc7369f8e",
   "metadata": {},
   "outputs": [
    {
     "name": "stdout",
     "output_type": "stream",
     "text": [
      "2\n",
      "3\n",
      "4\n",
      "5\n",
      "6\n"
     ]
    }
   ],
   "source": [
    "for i in l:\n",
    "        print(i+1)"
   ]
  },
  {
   "cell_type": "code",
   "execution_count": 7,
   "id": "6b8da420-0453-4685-97f1-e37523c570b9",
   "metadata": {},
   "outputs": [
    {
     "data": {
      "text/plain": [
       "' WHILE LOOP - WHILE LOOP CAN BE USED -\\n    a. WHEN ASKING FOR USER INPUT.\\n    b. WHEN THE INCREMENT VALUE IS NONSTANDARD.'"
      ]
     },
     "execution_count": 7,
     "metadata": {},
     "output_type": "execute_result"
    }
   ],
   "source": [
    "''' WHILE LOOP - WHILE LOOP CAN BE USED -\n",
    "    a. WHEN ASKING FOR USER INPUT.\n",
    "    b. WHEN THE INCREMENT VALUE IS NONSTANDARD.'''"
   ]
  },
  {
   "cell_type": "code",
   "execution_count": 8,
   "id": "300a1492-475a-4b14-a084-8c036b46f849",
   "metadata": {},
   "outputs": [],
   "source": [
    "## EXAMPLE OF WHILE LOOP TO ADD TILL USER DEFINED NUMBER"
   ]
  },
  {
   "cell_type": "code",
   "execution_count": 9,
   "id": "41988990-199d-46ce-95ad-5b3996c12d2e",
   "metadata": {},
   "outputs": [
    {
     "name": "stdin",
     "output_type": "stream",
     "text": [
      "enter your limit 10\n"
     ]
    },
    {
     "data": {
      "text/plain": [
       "55"
      ]
     },
     "execution_count": 9,
     "metadata": {},
     "output_type": "execute_result"
    }
   ],
   "source": [
    "n= int(input(\"enter your limit\"))\n",
    "a=0\n",
    "counter = 1\n",
    "\n",
    "while counter<= n:\n",
    "    a=a+counter\n",
    "    counter = counter+1\n",
    "    \n",
    "a   "
   ]
  },
  {
   "cell_type": "code",
   "execution_count": null,
   "id": "e31289e0-67fe-40df-b3c8-4c5c4c7159d1",
   "metadata": {},
   "outputs": [],
   "source": []
  },
  {
   "cell_type": "markdown",
   "id": "b435feb7-3541-4a7b-89de-635cd9d0ea39",
   "metadata": {},
   "source": [
    "2. WRITE A PYTHON PROGRAM TO PRINT THE SUM AND PRODUCT OF THE FIRST 10 NATURAL NUMBERS USING FOR LOOP AND WHILE LOOP"
   ]
  },
  {
   "cell_type": "code",
   "execution_count": 21,
   "id": "072a981d-9f56-435b-9495-9d7de9819e11",
   "metadata": {},
   "outputs": [
    {
     "name": "stdout",
     "output_type": "stream",
     "text": [
      "sum = 55\n",
      "product= 3628800\n"
     ]
    }
   ],
   "source": [
    "## for loop \n",
    "summ = 0\n",
    "product=1\n",
    "for i in range(1,11):\n",
    "    summ = summ + i\n",
    "    product = product*i\n",
    "    i=i+1\n",
    "\n",
    "print ('sum =',summ)\n",
    "print('product=',product)"
   ]
  },
  {
   "cell_type": "code",
   "execution_count": 22,
   "id": "d4c65fbb-25f3-4799-ba80-c39b89947739",
   "metadata": {},
   "outputs": [
    {
     "name": "stdout",
     "output_type": "stream",
     "text": [
      "sum = 55\n",
      "product= 3628800\n"
     ]
    }
   ],
   "source": [
    "##while loop\n",
    "\n",
    "sum=0\n",
    "product=1\n",
    "i=1\n",
    "while i<=10:\n",
    "    sum = sum + i\n",
    "    product = product * i\n",
    "    i=i+1\n",
    "print ('sum =',sum)\n",
    "print('product=',product)    "
   ]
  },
  {
   "cell_type": "code",
   "execution_count": null,
   "id": "dc759823-83a2-4d5d-85d1-656d793caa4b",
   "metadata": {},
   "outputs": [],
   "source": []
  },
  {
   "cell_type": "markdown",
   "id": "2a3b0a70-e008-4478-b9af-4391a56d4eed",
   "metadata": {},
   "source": [
    "3.CREATE A Python program to compute the electricity bill 4 household. The per unit charge in rupees are as follows :\n",
    "   For the first 100 units, The user will be charged. ₹4.5 per unit. For the next 100 units, The user will be charged ₹6 per unit, And the next 100 Units, The user will charge ₹10 per unit. After 300 units and above, the user will be charged Rs. 20 per unit.\n",
    "    You are required to take the units of electricity consumed in a month from the user as input.\n",
    "    Your program must pass this test case when the unit of electricity consumed by a user in a month is 310, The total electricity bill should be 2250."
   ]
  },
  {
   "cell_type": "code",
   "execution_count": 31,
   "id": "1118f259-79af-42b0-b621-bb76a9a09562",
   "metadata": {},
   "outputs": [
    {
     "name": "stdin",
     "output_type": "stream",
     "text": [
      "enter the number of units you consumed  in a month  310\n"
     ]
    },
    {
     "name": "stdout",
     "output_type": "stream",
     "text": [
      "total amout to pay 2250.0\n"
     ]
    }
   ],
   "source": [
    "unit = int(input(\"enter the number of units you consumed  in a month \"))\n",
    "if unit<=100:\n",
    "    pay= unit*4.5\n",
    "    \n",
    "elif unit<=200:\n",
    "    pay = (100*4.5) + (unit -100)* 6\n",
    "    \n",
    "elif unit<=300:\n",
    "    pay = (100*4.5) + 100* 6 +  (unit-200) * 10\n",
    "    \n",
    "else :\n",
    "    pay = (100*4.5) + 100* 6 +  100 * 10 + (unit - 300) * 20\n",
    "    \n",
    "print ('total amout to pay',pay   )"
   ]
  },
  {
   "cell_type": "code",
   "execution_count": null,
   "id": "26835f62-5dd3-487f-9dc1-587479876cc5",
   "metadata": {},
   "outputs": [],
   "source": []
  },
  {
   "cell_type": "markdown",
   "id": "4a2a230c-89a3-45b5-aa20-3d83b664a007",
   "metadata": {},
   "source": [
    "4.CREATE A LIST OF NUMBER FROM 1 TO 100. USE FOR LOOP AND WHILE LOOP TO CALCULATE THE CUBE OF EACH NUMBER AND IF THE CUBE OF THAT NUMBER IS DIVISIBLE BY 4 AND 5 THEN APPEND THAT NUMBER IN A LIST AND PRINT THAT LIST.  "
   ]
  },
  {
   "cell_type": "code",
   "execution_count": 1,
   "id": "e096fd4d-b251-4023-b8db-1e06c524ac8a",
   "metadata": {},
   "outputs": [
    {
     "data": {
      "text/plain": [
       "[8,\n",
       " 64,\n",
       " 125,\n",
       " 216,\n",
       " 512,\n",
       " 1000,\n",
       " 1728,\n",
       " 2744,\n",
       " 3375,\n",
       " 4096,\n",
       " 5832,\n",
       " 8000,\n",
       " 10648,\n",
       " 13824,\n",
       " 15625,\n",
       " 17576,\n",
       " 21952,\n",
       " 27000,\n",
       " 32768,\n",
       " 39304,\n",
       " 42875,\n",
       " 46656,\n",
       " 54872,\n",
       " 64000,\n",
       " 74088,\n",
       " 85184,\n",
       " 91125,\n",
       " 97336,\n",
       " 110592,\n",
       " 125000,\n",
       " 140608,\n",
       " 157464,\n",
       " 166375,\n",
       " 175616,\n",
       " 195112,\n",
       " 216000,\n",
       " 238328,\n",
       " 262144,\n",
       " 274625,\n",
       " 287496,\n",
       " 314432,\n",
       " 343000,\n",
       " 373248,\n",
       " 405224,\n",
       " 421875,\n",
       " 438976,\n",
       " 474552,\n",
       " 512000,\n",
       " 551368,\n",
       " 592704,\n",
       " 614125,\n",
       " 636056,\n",
       " 681472,\n",
       " 729000,\n",
       " 778688,\n",
       " 830584,\n",
       " 857375,\n",
       " 884736,\n",
       " 941192,\n",
       " 1000000]"
      ]
     },
     "execution_count": 1,
     "metadata": {},
     "output_type": "execute_result"
    }
   ],
   "source": [
    "## for loop\n",
    "l=list(range(1,101))\n",
    "l1=[]\n",
    "for i in range(1,101):\n",
    "        c = i**3\n",
    "        if c%4==0 or c%5==0 :\n",
    "            l1.append(c)\n",
    "l1     \n"
   ]
  },
  {
   "cell_type": "code",
   "execution_count": 2,
   "id": "c04db7fc-ce67-4847-bf0f-a319ef620be8",
   "metadata": {},
   "outputs": [
    {
     "data": {
      "text/plain": [
       "[8,\n",
       " 64,\n",
       " 125,\n",
       " 216,\n",
       " 512,\n",
       " 1000,\n",
       " 1728,\n",
       " 2744,\n",
       " 3375,\n",
       " 4096,\n",
       " 5832,\n",
       " 8000,\n",
       " 10648,\n",
       " 13824,\n",
       " 15625,\n",
       " 17576,\n",
       " 21952,\n",
       " 27000,\n",
       " 32768,\n",
       " 39304,\n",
       " 42875,\n",
       " 46656,\n",
       " 54872,\n",
       " 64000,\n",
       " 74088,\n",
       " 85184,\n",
       " 91125,\n",
       " 97336,\n",
       " 110592,\n",
       " 125000,\n",
       " 140608,\n",
       " 157464,\n",
       " 166375,\n",
       " 175616,\n",
       " 195112,\n",
       " 216000,\n",
       " 238328,\n",
       " 262144,\n",
       " 274625,\n",
       " 287496,\n",
       " 314432,\n",
       " 343000,\n",
       " 373248,\n",
       " 405224,\n",
       " 421875,\n",
       " 438976,\n",
       " 474552,\n",
       " 512000,\n",
       " 551368,\n",
       " 592704,\n",
       " 614125,\n",
       " 636056,\n",
       " 681472,\n",
       " 729000,\n",
       " 778688,\n",
       " 830584,\n",
       " 857375,\n",
       " 884736,\n",
       " 941192,\n",
       " 1000000]"
      ]
     },
     "execution_count": 2,
     "metadata": {},
     "output_type": "execute_result"
    }
   ],
   "source": [
    "## while loop\n",
    "l=list(range(1,101))\n",
    "l1=[]\n",
    "n=1\n",
    "i=100\n",
    "while(n<=i):\n",
    "    c=n**3\n",
    "    if c % 4 == 0 or c % 5 == 0:\n",
    "            l1.append(c)\n",
    "    n=n+1\n",
    "    \n",
    "l1   "
   ]
  },
  {
   "cell_type": "code",
   "execution_count": null,
   "id": "2a4161b2-9f3e-458a-9b25-cb802bd28ff3",
   "metadata": {},
   "outputs": [],
   "source": []
  },
  {
   "cell_type": "markdown",
   "id": "e0f4a309-9913-4e65-9300-69aa66a1b5c1",
   "metadata": {},
   "source": [
    "5. Write a program to filter count vowels in the below - given string.\n",
    "string = 'I want to become a data scientist.'"
   ]
  },
  {
   "cell_type": "code",
   "execution_count": 3,
   "id": "1c922317-3ff3-4356-87e6-848a198d2789",
   "metadata": {},
   "outputs": [
    {
     "name": "stdout",
     "output_type": "stream",
     "text": [
      "vowels :  ['i', 'a', 'o', 'e', 'o', 'e', 'a', 'a', 'a', 'i', 'e', 'i']\n",
      "number of vowels : 12\n"
     ]
    }
   ],
   "source": [
    "input = list(\"i want to become a data scientist\")\n",
    "def vowel(x):\n",
    "    v=('a' , 'e' , 'i' , 'o' , 'u')\n",
    "    return x in v\n",
    "\n",
    "output = list(filter(vowel , input))\n",
    "print('vowels : ' , output)\n",
    "print(\"number of vowels :\" , len(output))"
   ]
  },
  {
   "cell_type": "code",
   "execution_count": null,
   "id": "20e1a19a-bf6d-42ff-a4ea-b37e1a948361",
   "metadata": {},
   "outputs": [],
   "source": []
  }
 ],
 "metadata": {
  "kernelspec": {
   "display_name": "Python 3 (ipykernel)",
   "language": "python",
   "name": "python3"
  },
  "language_info": {
   "codemirror_mode": {
    "name": "ipython",
    "version": 3
   },
   "file_extension": ".py",
   "mimetype": "text/x-python",
   "name": "python",
   "nbconvert_exporter": "python",
   "pygments_lexer": "ipython3",
   "version": "3.10.8"
  }
 },
 "nbformat": 4,
 "nbformat_minor": 5
}
