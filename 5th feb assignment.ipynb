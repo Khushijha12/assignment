{
 "cells": [
  {
   "cell_type": "markdown",
   "id": "05dce3ab-f5ae-4402-b5b2-5646e0689965",
   "metadata": {},
   "source": [
    "Q1. Explain Class and Object with respect to Object-Oriented Programming. Give a suitable example."
   ]
  },
  {
   "cell_type": "code",
   "execution_count": 7,
   "id": "4a99cc61-1dc2-4eb8-9982-5074dc4a7ada",
   "metadata": {},
   "outputs": [],
   "source": [
    "#ans:- class : a class is like an object constructor, or a \"blueprint\" for creating objects.\n",
    "#Object: An object is an instance of a class. It is a collection of attributes (variables) and methods. We use the object of a class to perform actions.\n",
    "#example\n",
    "class example:\n",
    "    def wel(self):\n",
    "        print(\"example of class in oops\")"
   ]
  },
  {
   "cell_type": "code",
   "execution_count": 12,
   "id": "96886a22-930b-45ed-b8e1-d1c537d2e7c1",
   "metadata": {},
   "outputs": [],
   "source": [
    "clss = example() #object"
   ]
  },
  {
   "cell_type": "code",
   "execution_count": 13,
   "id": "ba61ff0c-0a9f-43b7-bec8-67cfe0167c3e",
   "metadata": {},
   "outputs": [
    {
     "name": "stdout",
     "output_type": "stream",
     "text": [
      "example of class in oops\n"
     ]
    }
   ],
   "source": [
    "clss.wel()"
   ]
  },
  {
   "cell_type": "code",
   "execution_count": null,
   "id": "f18eab14-120e-4a78-86af-73d92f38b744",
   "metadata": {},
   "outputs": [],
   "source": []
  },
  {
   "cell_type": "markdown",
   "id": "2c190e24-a8f4-4d26-9a79-383c485ad58b",
   "metadata": {},
   "source": [
    "Q2. Name the four pillars of OOPs."
   ]
  },
  {
   "cell_type": "markdown",
   "id": "11a8be0c-f258-4558-9f38-606ebe47894b",
   "metadata": {},
   "source": [
    "ans:- These four pillars are:\n",
    "    1.Inheritance\n",
    "    2.Polymorphism\n",
    "    3.Encapsulation\n",
    "    4.Abstraction"
   ]
  },
  {
   "cell_type": "code",
   "execution_count": null,
   "id": "c57eface-897e-44c6-ab48-52f5e1b3debe",
   "metadata": {},
   "outputs": [],
   "source": []
  },
  {
   "cell_type": "markdown",
   "id": "f0aa87d8-14eb-44dc-a71a-79fd8e5a7eb5",
   "metadata": {},
   "source": [
    "Q3. Explain why the __init__() function is used. Give a suitable example."
   ]
  },
  {
   "cell_type": "code",
   "execution_count": 15,
   "id": "6481d33c-d358-4c44-9ce3-b8dbae645669",
   "metadata": {},
   "outputs": [],
   "source": [
    "# init is a inbuilt function used to pass data in class.\n"
   ]
  },
  {
   "cell_type": "code",
   "execution_count": 17,
   "id": "662873d7-a8c4-4265-b8b4-459d9f280672",
   "metadata": {},
   "outputs": [],
   "source": [
    "#example\n",
    "class test1:\n",
    "    def __init__(self , phone_no , email_id , id_card):\n",
    "        self.phone_no = phone_no\n",
    "        self.email_id = email_id\n",
    "        self.id_card = id_card\n",
    "        \n",
    "    def return_student_details(self):\n",
    "        return self.phone_no , self.email_id , self.id_card\n",
    "        "
   ]
  },
  {
   "cell_type": "code",
   "execution_count": 21,
   "id": "4cdae0a4-ab08-4c7b-ba67-c41edd3d78f6",
   "metadata": {},
   "outputs": [],
   "source": [
    "obj = test1(9876543210 , 'abc@gmail.com' , 49)"
   ]
  },
  {
   "cell_type": "code",
   "execution_count": 22,
   "id": "51fc8cce-7d5a-42e5-8a8c-c46450ea3bd6",
   "metadata": {},
   "outputs": [
    {
     "data": {
      "text/plain": [
       "(9876543210, 'abc@gmail.com', 49)"
      ]
     },
     "execution_count": 22,
     "metadata": {},
     "output_type": "execute_result"
    }
   ],
   "source": [
    "obj.return_student_details()"
   ]
  },
  {
   "cell_type": "code",
   "execution_count": null,
   "id": "0ac06770-847f-4b30-905f-a6225669ba98",
   "metadata": {},
   "outputs": [],
   "source": []
  },
  {
   "cell_type": "markdown",
   "id": "17f5de1c-7cbb-4536-af87-a0b77a4ffdea",
   "metadata": {},
   "source": [
    "Q4. Why self is used in OOPs?"
   ]
  },
  {
   "cell_type": "markdown",
   "id": "bd2bbc66-52d0-4c2b-91dd-ead5cc1ea4f9",
   "metadata": {},
   "source": [
    "ans:- self represents the instance of the class. By using the “self”  we can access the attributes and methods of the class in python. It binds the attributes with the given arguments."
   ]
  },
  {
   "cell_type": "code",
   "execution_count": null,
   "id": "da811e98-8c59-4727-b87e-6cc13d3879e7",
   "metadata": {},
   "outputs": [],
   "source": []
  },
  {
   "cell_type": "markdown",
   "id": "d2f91d20-ea5b-4d2e-8609-68c8ce53da01",
   "metadata": {},
   "source": [
    "Q5. What is inheritance? Give an example for each type of inheritance."
   ]
  },
  {
   "cell_type": "code",
   "execution_count": 24,
   "id": "6e2a08e0-6508-4d48-8d07-1ef0c555c564",
   "metadata": {},
   "outputs": [],
   "source": [
    "# inheritance allows us to define a class that inherits all the methods and properties from another class."
   ]
  },
  {
   "cell_type": "code",
   "execution_count": 25,
   "id": "b97b938e-70e5-4ab7-89b4-6a4ec7ae507f",
   "metadata": {},
   "outputs": [],
   "source": [
    "# single inheritence\n",
    "class test3:\n",
    "    \n",
    "    def test_meth(self):\n",
    "        return 'this is single inheritance prgm'\n"
   ]
  },
  {
   "cell_type": "code",
   "execution_count": 26,
   "id": "5ebd24b6-15e5-4172-9e0b-228cc00554ad",
   "metadata": {},
   "outputs": [],
   "source": [
    "class child_test3(test3):\n",
    "    pass"
   ]
  },
  {
   "cell_type": "code",
   "execution_count": 27,
   "id": "0ff2ee2d-da49-4eeb-8907-1358eb8d84f1",
   "metadata": {},
   "outputs": [],
   "source": [
    "child_test3obj = child_test3()"
   ]
  },
  {
   "cell_type": "code",
   "execution_count": 28,
   "id": "f810356c-cdcb-46a8-85cf-87e85ee97e0d",
   "metadata": {},
   "outputs": [
    {
     "data": {
      "text/plain": [
       "'this is single inheritance prgm'"
      ]
     },
     "execution_count": 28,
     "metadata": {},
     "output_type": "execute_result"
    }
   ],
   "source": [
    "child_test3obj.test_meth()"
   ]
  },
  {
   "cell_type": "code",
   "execution_count": null,
   "id": "33a53b9e-83c5-4cae-b491-a4848721f4e3",
   "metadata": {},
   "outputs": [],
   "source": []
  },
  {
   "cell_type": "code",
   "execution_count": 29,
   "id": "6b730d38-2c4f-4912-850e-06df40a809ea",
   "metadata": {},
   "outputs": [],
   "source": [
    "# multilevel inheritance\n",
    "class test4:\n",
    "    \n",
    "    def class1(self):\n",
    "        return \"this is 1st level \""
   ]
  },
  {
   "cell_type": "code",
   "execution_count": 30,
   "id": "c53c48d4-9bd8-4b5e-b00f-d847853d00d2",
   "metadata": {},
   "outputs": [],
   "source": [
    "class test5(test4):\n",
    "    \n",
    "    def class2(self):\n",
    "        return \"this is 2nd level\""
   ]
  },
  {
   "cell_type": "code",
   "execution_count": 31,
   "id": "0e0e4e81-fdb7-4f40-ac59-6619413071b3",
   "metadata": {},
   "outputs": [],
   "source": [
    "class test6(test5):\n",
    "    \n",
    "    def class3(self):\n",
    "        return \"this is 3rd level\""
   ]
  },
  {
   "cell_type": "code",
   "execution_count": 32,
   "id": "a0eabedc-5b01-41bc-b868-2c1b0095a2b6",
   "metadata": {},
   "outputs": [],
   "source": [
    "obj = test6()"
   ]
  },
  {
   "cell_type": "code",
   "execution_count": 33,
   "id": "b13d93b8-3941-4e06-bd21-dd1154711654",
   "metadata": {},
   "outputs": [
    {
     "data": {
      "text/plain": [
       "'this is 1st level '"
      ]
     },
     "execution_count": 33,
     "metadata": {},
     "output_type": "execute_result"
    }
   ],
   "source": [
    "obj.class1()"
   ]
  },
  {
   "cell_type": "code",
   "execution_count": 34,
   "id": "58b53942-2eda-4afd-8de4-d34b529f4a30",
   "metadata": {},
   "outputs": [
    {
     "data": {
      "text/plain": [
       "'this is 2nd level'"
      ]
     },
     "execution_count": 34,
     "metadata": {},
     "output_type": "execute_result"
    }
   ],
   "source": [
    "obj.class2()"
   ]
  },
  {
   "cell_type": "code",
   "execution_count": 35,
   "id": "b9c33206-b368-4bff-bd56-94accb6e682b",
   "metadata": {},
   "outputs": [
    {
     "data": {
      "text/plain": [
       "'this is 3rd level'"
      ]
     },
     "execution_count": 35,
     "metadata": {},
     "output_type": "execute_result"
    }
   ],
   "source": [
    "obj.class3()"
   ]
  },
  {
   "cell_type": "code",
   "execution_count": null,
   "id": "4e5d6a63-18ee-4ceb-a82f-8d1580cdbe50",
   "metadata": {},
   "outputs": [],
   "source": []
  },
  {
   "cell_type": "code",
   "execution_count": 36,
   "id": "e9c197b5-6da8-4b79-a1a1-d42fdd6525cf",
   "metadata": {},
   "outputs": [],
   "source": [
    "# multiple inheritance\n"
   ]
  },
  {
   "cell_type": "code",
   "execution_count": null,
   "id": "66276cb2-023a-4ad6-9637-f0b4b94c6858",
   "metadata": {},
   "outputs": [],
   "source": []
  }
 ],
 "metadata": {
  "kernelspec": {
   "display_name": "Python 3 (ipykernel)",
   "language": "python",
   "name": "python3"
  },
  "language_info": {
   "codemirror_mode": {
    "name": "ipython",
    "version": 3
   },
   "file_extension": ".py",
   "mimetype": "text/x-python",
   "name": "python",
   "nbconvert_exporter": "python",
   "pygments_lexer": "ipython3",
   "version": "3.10.8"
  }
 },
 "nbformat": 4,
 "nbformat_minor": 5
}
