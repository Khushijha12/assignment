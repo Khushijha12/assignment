{
 "cells": [
  {
   "cell_type": "markdown",
   "id": "11e15345-56a2-44f3-b91a-3cb5854f08f0",
   "metadata": {},
   "source": [
    "Q1. What is an Exception in python? Write the difference between Exceptions and syntax errors"
   ]
  },
  {
   "cell_type": "markdown",
   "id": "1843e04f-344c-41e0-907a-872736b76a12",
   "metadata": {},
   "source": [
    "ans :- An exception is an event, which occurs during the execution of a program that disrupts the normal flow of the program's instructions.\n",
    "\n",
    "       An error is an issue in a program that prevents the program from completing its task. In comparison, an exception is a condition that interrupts the normal flow of the program."
   ]
  },
  {
   "cell_type": "markdown",
   "id": "33f35681-2462-403e-9c9a-cdad8eda1756",
   "metadata": {},
   "source": [
    " Q2. what happens when an exception is not handled? Explain with an example."
   ]
  },
  {
   "cell_type": "markdown",
   "id": "cd917605-352c-4ea1-9fad-0575aaea6f73",
   "metadata": {},
   "source": [
    "ans:-\n",
    "If an exception occurs during execution of the try clause, the exception may be handled by an except clause. If the exception is not handled by an except clause, the exception is re-raised after the finally clause has been executed."
   ]
  },
  {
   "cell_type": "code",
   "execution_count": 2,
   "id": "34c1e856-c02c-4c1e-b853-4fbf17a4b1ce",
   "metadata": {},
   "outputs": [
    {
     "data": {
      "text/plain": [
       "False"
      ]
     },
     "execution_count": 2,
     "metadata": {},
     "output_type": "execute_result"
    }
   ],
   "source": [
    "#example\n",
    "def bool_return():\n",
    "    try:\n",
    "        return True\n",
    "    finally:\n",
    "        return False\n",
    "\n",
    "bool_return()"
   ]
  },
  {
   "cell_type": "markdown",
   "id": "9439f9d8-78dd-4949-8590-0103cd39ca11",
   "metadata": {},
   "source": [
    "Q3. which python statements are used to catch and handle exception? Explain with an example."
   ]
  },
  {
   "cell_type": "markdown",
   "id": "8c9ca102-d0d2-4db2-b11b-45447de5e5eb",
   "metadata": {},
   "source": [
    "ans:- The try and except block in Python is used to catch and handle exceptions. Python executes code following the try statement as a “normal” part of the program. The code that follows the except statement is the program’s response to any exceptions in the preceding try clause."
   ]
  },
  {
   "cell_type": "code",
   "execution_count": 3,
   "id": "185123fc-2337-4ee0-bb1d-9e3497bb97ec",
   "metadata": {},
   "outputs": [
    {
     "name": "stdout",
     "output_type": "stream",
     "text": [
      "division by zero\n"
     ]
    }
   ],
   "source": [
    "#example\n",
    "try:\n",
    "    a=10/0\n",
    "except ZeroDivisionError as e:\n",
    "    print(e)\n"
   ]
  },
  {
   "cell_type": "markdown",
   "id": "97fe3878-21a7-45a5-80bd-7d12416cc43e",
   "metadata": {},
   "source": [
    "Q4.explain with an example:\n",
    "    1. try and else\n",
    "    2.finally\n",
    "    3.raise"
   ]
  },
  {
   "cell_type": "code",
   "execution_count": 11,
   "id": "05507bd1-e6ea-4e11-8590-a414b2ca125c",
   "metadata": {},
   "outputs": [
    {
     "name": "stdout",
     "output_type": "stream",
     "text": [
      "Hello\n",
      "Nothing went wrong\n"
     ]
    }
   ],
   "source": [
    "#ans:- 1. try and else :\n",
    "# Try: This block will test the excepted error to occur\n",
    "# Else: If there is no exception then this block will be executed    \n",
    "try:\n",
    "    print(\"Hello\")\n",
    "except:\n",
    "    print(\"Something went wrong\")\n",
    "else:\n",
    "    print(\"Nothing went wrong\")"
   ]
  },
  {
   "cell_type": "code",
   "execution_count": 12,
   "id": "56f235c1-8689-4cb9-82cf-1ddcb7da9f98",
   "metadata": {},
   "outputs": [
    {
     "name": "stdout",
     "output_type": "stream",
     "text": [
      "Something went wrong\n",
      "The try...except block is finished\n"
     ]
    }
   ],
   "source": [
    "# 2. finally\n",
    "# It defines a block of code to run when the try... except...else block is final. The finally block will be executed no matter if the try block raises an error or not.\n",
    "try:\n",
    "    x > 3\n",
    "except:\n",
    "    print(\"Something went wrong\")\n",
    "else:\n",
    "    print(\"Nothing went wrong\")\n",
    "finally:\n",
    "    print(\"The try...except block is finished\")"
   ]
  },
  {
   "cell_type": "code",
   "execution_count": 13,
   "id": "8d63ffa3-20e8-4089-91fe-84ba85706787",
   "metadata": {},
   "outputs": [
    {
     "ename": "TypeError",
     "evalue": "Only integers are allowed",
     "output_type": "error",
     "traceback": [
      "\u001b[0;31m---------------------------------------------------------------------------\u001b[0m",
      "\u001b[0;31mTypeError\u001b[0m                                 Traceback (most recent call last)",
      "Cell \u001b[0;32mIn[13], line 6\u001b[0m\n\u001b[1;32m      3\u001b[0m x \u001b[38;5;241m=\u001b[39m \u001b[38;5;124m\"\u001b[39m\u001b[38;5;124mhello\u001b[39m\u001b[38;5;124m\"\u001b[39m\n\u001b[1;32m      5\u001b[0m \u001b[38;5;28;01mif\u001b[39;00m \u001b[38;5;129;01mnot\u001b[39;00m \u001b[38;5;28mtype\u001b[39m(x) \u001b[38;5;129;01mis\u001b[39;00m \u001b[38;5;28mint\u001b[39m:\n\u001b[0;32m----> 6\u001b[0m     \u001b[38;5;28;01mraise\u001b[39;00m \u001b[38;5;167;01mTypeError\u001b[39;00m(\u001b[38;5;124m\"\u001b[39m\u001b[38;5;124mOnly integers are allowed\u001b[39m\u001b[38;5;124m\"\u001b[39m)\n",
      "\u001b[0;31mTypeError\u001b[0m: Only integers are allowed"
     ]
    }
   ],
   "source": [
    "# 3. raise\n",
    "# Raise Keyword is used to raise exceptions or errors.\n",
    "x = \"hello\"\n",
    "\n",
    "if not type(x) is int:\n",
    "    raise TypeError(\"Only integers are allowed\")\n"
   ]
  },
  {
   "cell_type": "markdown",
   "id": "852aefb9-afcb-4e16-8989-a23b77582af9",
   "metadata": {},
   "source": [
    "Q5. What are Custom Exceptions in python? Why do wwe need Custom Exceptions? Explain with an example"
   ]
  },
  {
   "cell_type": "markdown",
   "id": "af7d60e7-cb84-4fd2-8921-9cbd6bef0828",
   "metadata": {},
   "source": [
    "ans:-we can define custom exceptions by creating a new class that is derived from the built-in Exception class. \n",
    "     we need custom exceptions as it add information about project-related problems . "
   ]
  },
  {
   "cell_type": "code",
   "execution_count": 14,
   "id": "db9e6f62-d73d-4e3e-b3aa-71cf2989eb7f",
   "metadata": {},
   "outputs": [
    {
     "name": "stdout",
     "output_type": "stream",
     "text": [
      "division by zero\n"
     ]
    }
   ],
   "source": [
    "#example\n",
    "try:\n",
    "    a=10/0\n",
    "    \n",
    "except ZeroDivisionError as e:\n",
    "    print(e)"
   ]
  },
  {
   "cell_type": "markdown",
   "id": "f9831164-7590-4c32-aecf-2a7a80a2916d",
   "metadata": {},
   "source": [
    "Q6. Create a custom exception class. use this class to handle an exception"
   ]
  },
  {
   "cell_type": "code",
   "execution_count": null,
   "id": "8778052a-7cd0-40e4-b50f-96f32fb2150d",
   "metadata": {},
   "outputs": [],
   "source": [
    "#answer:-\n"
   ]
  }
 ],
 "metadata": {
  "kernelspec": {
   "display_name": "Python 3 (ipykernel)",
   "language": "python",
   "name": "python3"
  },
  "language_info": {
   "codemirror_mode": {
    "name": "ipython",
    "version": 3
   },
   "file_extension": ".py",
   "mimetype": "text/x-python",
   "name": "python",
   "nbconvert_exporter": "python",
   "pygments_lexer": "ipython3",
   "version": "3.10.8"
  }
 },
 "nbformat": 4,
 "nbformat_minor": 5
}
